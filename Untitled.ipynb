{
 "cells": [
  {
   "cell_type": "code",
   "execution_count": null,
   "metadata": {},
   "outputs": [
    {
     "name": "stdout",
     "output_type": "stream",
     "text": [
      "blbl\n",
      "\n",
      "1\n",
      "\n",
      "r n b q k b n r\n",
      "p p p p p p p p\n",
      ". . . . . . . .\n",
      ". . . . . . . .\n",
      ". . . . P . . .\n",
      ". . . . . . . .\n",
      "P P P P . P P P\n",
      "R N B Q K B N R\n"
     ]
    }
   ],
   "source": [
    "import chess.svg\n",
    "import chess.pgn\n",
    "import chess.engine\n",
    "from IPython.display import SVG\n",
    "# https://medium.com/dscvitpune/lets-create-a-chess-ai-8542a12afef\n",
    "\n",
    "count = 0\n",
    "movehistory = []\n",
    "game = chess.pgn.Game()\n",
    "board = chess.Board()\n",
    "print(\"blbl\")\n",
    "stockfish1 = \"engine/stockfish_20090216_x64_avx2.exe\"\n",
    "stockfish2 = \"engine/stockfish.exe\"\n",
    "deuterium = \"engine/Deuterium.exe\"\n",
    "cdrill = \"engine/CDrill.exe\"\n",
    "engine = chess.engine.SimpleEngine.popen_uci(deuterium)\n",
    "chess.svg.board(board=board, size=400)\n",
    "\n",
    "while not board.is_game_over(claim_draw=True):\n",
    "    if board.turn:\n",
    "        count += 1\n",
    "        print(f'\\n{count}\\n')\n",
    "        move = engine.play(board, chess.engine.Limit(time=0.1))\n",
    "        movehistory.append(move.move)\n",
    "        board.push(move.move)\n",
    "        print(board)\n",
    "    else:\n",
    "        chess.svg.board(board=board, size=400)\n",
    "        human_move = input()\n",
    "        board.push_san(human_move)\n",
    "        print(board)\n",
    "        \n",
    "\n",
    "game.add_line(movehistory)\n",
    "game.headers[\"Result\"] = str(board.result(claim_draw=True))\n",
    "print(game)\n",
    "chess.svg.board(board=board, size=400)\n"
   ]
  },
  {
   "cell_type": "code",
   "execution_count": null,
   "metadata": {},
   "outputs": [],
   "source": []
  }
 ],
 "metadata": {
  "kernelspec": {
   "display_name": "Python 3",
   "language": "python",
   "name": "python3"
  },
  "language_info": {
   "codemirror_mode": {
    "name": "ipython",
    "version": 3
   },
   "file_extension": ".py",
   "mimetype": "text/x-python",
   "name": "python",
   "nbconvert_exporter": "python",
   "pygments_lexer": "ipython3",
   "version": "3.7.6"
  }
 },
 "nbformat": 4,
 "nbformat_minor": 4
}
